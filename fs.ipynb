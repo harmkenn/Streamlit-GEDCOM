{
 "cells": [
  {
   "cell_type": "code",
   "execution_count": 1,
   "metadata": {},
   "outputs": [
    {
     "ename": "NameError",
     "evalue": "name '__file__' is not defined",
     "output_type": "error",
     "traceback": [
      "\u001b[1;31m---------------------------------------------------------------------------\u001b[0m",
      "\u001b[1;31mNameError\u001b[0m                                 Traceback (most recent call last)",
      "Cell \u001b[1;32mIn[1], line 7\u001b[0m\n\u001b[0;32m      4\u001b[0m \u001b[38;5;28;01mfrom\u001b[39;00m \u001b[38;5;21;01mselenium\u001b[39;00m\u001b[38;5;21;01m.\u001b[39;00m\u001b[38;5;21;01mwebdriver\u001b[39;00m\u001b[38;5;21;01m.\u001b[39;00m\u001b[38;5;21;01medge\u001b[39;00m\u001b[38;5;21;01m.\u001b[39;00m\u001b[38;5;21;01moptions\u001b[39;00m \u001b[38;5;28;01mimport\u001b[39;00m Options\n\u001b[0;32m      6\u001b[0m \u001b[38;5;66;03m# Get the current directory\u001b[39;00m\n\u001b[1;32m----> 7\u001b[0m current_directory \u001b[38;5;241m=\u001b[39m os\u001b[38;5;241m.\u001b[39mpath\u001b[38;5;241m.\u001b[39mdirname(os\u001b[38;5;241m.\u001b[39mpath\u001b[38;5;241m.\u001b[39mabspath(\u001b[38;5;18;43m__file__\u001b[39;49m))\n\u001b[0;32m      9\u001b[0m \u001b[38;5;66;03m# Specify the path to the EdgeDriver executable located in the current directory\u001b[39;00m\n\u001b[0;32m     10\u001b[0m edge_driver_path \u001b[38;5;241m=\u001b[39m os\u001b[38;5;241m.\u001b[39mpath\u001b[38;5;241m.\u001b[39mjoin(current_directory, \u001b[38;5;124m'\u001b[39m\u001b[38;5;124mmsedgedriver\u001b[39m\u001b[38;5;124m'\u001b[39m)\n",
      "\u001b[1;31mNameError\u001b[0m: name '__file__' is not defined"
     ]
    }
   ],
   "source": [
    "from selenium import webdriver\n",
    "from selenium.webdriver.edge.service import Service\n",
    "from selenium.webdriver.common.by import By\n",
    "from selenium.webdriver.edge.options import Options\n",
    "import pandas as pd\n",
    "import time\n",
    "import os\n",
    "\n",
    "# Path to your msedgedriver.exe\n",
    "DRIVER_PATH = os.path.join(os.path.dirname(__file__), 'msedgedriver.exe')\n",
    "\n",
    "# Configure Edge options (optional)\n",
    "edge_options = Options()\n",
    "edge_options.add_argument(\"--headless\")  # Run in headless mode if you don't need a GUI\n",
    "\n",
    "# Initialize WebDriver for Edge\n",
    "service = Service(DRIVER_PATH)\n",
    "driver = webdriver.Edge(service=service, options=edge_options)\n",
    "\n",
    "# Load your DataFrame\n",
    "data = {'page_urls': ['https://familysearch.org/page1', 'https://familysearch.org/page2']}\n",
    "df = pd.DataFrame(data)\n",
    "\n",
    "for index, row in df.iterrows():\n",
    "    url = row['page_urls']\n",
    "    driver.get(url)\n",
    "    \n",
    "    # Add a wait time to let the page load (adjust as necessary)\n",
    "    time.sleep(5)  # Sleep for 5 seconds\n",
    "\n",
    "    # Perform actions on the page if needed\n",
    "    # For example, you could find an element and interact with it:\n",
    "    # element = driver.find_element(By.XPATH, 'your-xpath-here')\n",
    "    # element.click()\n",
    "    \n",
    "    # Print the page title to confirm navigation\n",
    "    print(f\"Navigated to: {driver.title}\")\n",
    "\n",
    "# Close the browser when done\n",
    "driver.quit()\n"
   ]
  }
 ],
 "metadata": {
  "kernelspec": {
   "display_name": "Python 3",
   "language": "python",
   "name": "python3"
  },
  "language_info": {
   "codemirror_mode": {
    "name": "ipython",
    "version": 3
   },
   "file_extension": ".py",
   "mimetype": "text/x-python",
   "name": "python",
   "nbconvert_exporter": "python",
   "pygments_lexer": "ipython3",
   "version": "3.12.5"
  }
 },
 "nbformat": 4,
 "nbformat_minor": 2
}
