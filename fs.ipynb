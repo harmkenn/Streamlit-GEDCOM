{
 "cells": [
  {
   "cell_type": "code",
   "execution_count": 6,
   "metadata": {},
   "outputs": [
    {
     "name": "stdout",
     "output_type": "stream",
     "text": [
      "Navigated to: FamilySearch.org\n"
     ]
    },
    {
     "ename": "NoSuchWindowException",
     "evalue": "Message: no such window: target window already closed\nfrom unknown error: web view not found\n  (Session info: MicrosoftEdge=128.0.2739.42)\nStacktrace:\n\tGetHandleVerifier [0x00007FF6FC053A12+10594]\n\tMicrosoft::Applications::Events::ILogConfiguration::operator* [0x00007FF6FBFF0439+323321]\n\t(No symbol) [0x00007FF6FBE0F16E]\n\t(No symbol) [0x00007FF6FBDEAB19]\n\t(No symbol) [0x00007FF6FBE7E7CB]\n\t(No symbol) [0x00007FF6FBE9145A]\n\t(No symbol) [0x00007FF6FBE777E3]\n\t(No symbol) [0x00007FF6FBE4B3EC]\n\t(No symbol) [0x00007FF6FBE4A8CD]\n\t(No symbol) [0x00007FF6FBE4AFB1]\n\tMicrosoft::Applications::Events::EventProperty::empty [0x00007FF6FC1DE4B4+918756]\n\tMicrosoft::Applications::Events::EventProperty::~EventProperty [0x00007FF6FBF7C9BF+54575]\n\tMicrosoft::Applications::Events::EventProperty::~EventProperty [0x00007FF6FBF6F557+199]\n\tMicrosoft::Applications::Events::EventProperty::empty [0x00007FF6FC1DD23D+914029]\n\tMicrosoft::Applications::Events::ILogConfiguration::operator* [0x00007FF6FBFF7EC1+354689]\n\tMicrosoft::Applications::Events::ILogConfiguration::operator* [0x00007FF6FBFF4374+339508]\n\tMicrosoft::Applications::Events::ILogConfiguration::operator* [0x00007FF6FBFF44A9+339817]\n\tMicrosoft::Applications::Events::ILogConfiguration::operator* [0x00007FF6FBFEAD6C+301100]\n\tBaseThreadInitThunk [0x00007FFB020C257D+29]\n\tRtlUserThreadStart [0x00007FFB03A8AF28+40]\n",
     "output_type": "error",
     "traceback": [
      "\u001b[1;31m---------------------------------------------------------------------------\u001b[0m",
      "\u001b[1;31mNoSuchWindowException\u001b[0m                     Traceback (most recent call last)",
      "Cell \u001b[1;32mIn[6], line 22\u001b[0m\n\u001b[0;32m     20\u001b[0m \u001b[38;5;28;01mfor\u001b[39;00m index, row \u001b[38;5;129;01min\u001b[39;00m df\u001b[38;5;241m.\u001b[39miterrows():\n\u001b[0;32m     21\u001b[0m     url \u001b[38;5;241m=\u001b[39m row[\u001b[38;5;124m'\u001b[39m\u001b[38;5;124murl\u001b[39m\u001b[38;5;124m'\u001b[39m]\n\u001b[1;32m---> 22\u001b[0m     \u001b[43mdriver\u001b[49m\u001b[38;5;241;43m.\u001b[39;49m\u001b[43mget\u001b[49m\u001b[43m(\u001b[49m\u001b[43murl\u001b[49m\u001b[43m)\u001b[49m\n\u001b[0;32m     24\u001b[0m     \u001b[38;5;66;03m# Perform actions on the page\u001b[39;00m\n\u001b[0;32m     25\u001b[0m     \u001b[38;5;28mprint\u001b[39m(\u001b[38;5;124mf\u001b[39m\u001b[38;5;124m\"\u001b[39m\u001b[38;5;124mNavigated to: \u001b[39m\u001b[38;5;132;01m{\u001b[39;00mdriver\u001b[38;5;241m.\u001b[39mtitle\u001b[38;5;132;01m}\u001b[39;00m\u001b[38;5;124m\"\u001b[39m)\n",
      "File \u001b[1;32m~\\AppData\\Roaming\\Python\\Python312\\site-packages\\selenium\\webdriver\\remote\\webdriver.py:363\u001b[0m, in \u001b[0;36mWebDriver.get\u001b[1;34m(self, url)\u001b[0m\n\u001b[0;32m    361\u001b[0m \u001b[38;5;28;01mdef\u001b[39;00m \u001b[38;5;21mget\u001b[39m(\u001b[38;5;28mself\u001b[39m, url: \u001b[38;5;28mstr\u001b[39m) \u001b[38;5;241m-\u001b[39m\u001b[38;5;241m>\u001b[39m \u001b[38;5;28;01mNone\u001b[39;00m:\n\u001b[0;32m    362\u001b[0m \u001b[38;5;250m    \u001b[39m\u001b[38;5;124;03m\"\"\"Loads a web page in the current browser session.\"\"\"\u001b[39;00m\n\u001b[1;32m--> 363\u001b[0m     \u001b[38;5;28;43mself\u001b[39;49m\u001b[38;5;241;43m.\u001b[39;49m\u001b[43mexecute\u001b[49m\u001b[43m(\u001b[49m\u001b[43mCommand\u001b[49m\u001b[38;5;241;43m.\u001b[39;49m\u001b[43mGET\u001b[49m\u001b[43m,\u001b[49m\u001b[43m \u001b[49m\u001b[43m{\u001b[49m\u001b[38;5;124;43m\"\u001b[39;49m\u001b[38;5;124;43murl\u001b[39;49m\u001b[38;5;124;43m\"\u001b[39;49m\u001b[43m:\u001b[49m\u001b[43m \u001b[49m\u001b[43murl\u001b[49m\u001b[43m}\u001b[49m\u001b[43m)\u001b[49m\n",
      "File \u001b[1;32m~\\AppData\\Roaming\\Python\\Python312\\site-packages\\selenium\\webdriver\\remote\\webdriver.py:354\u001b[0m, in \u001b[0;36mWebDriver.execute\u001b[1;34m(self, driver_command, params)\u001b[0m\n\u001b[0;32m    352\u001b[0m response \u001b[38;5;241m=\u001b[39m \u001b[38;5;28mself\u001b[39m\u001b[38;5;241m.\u001b[39mcommand_executor\u001b[38;5;241m.\u001b[39mexecute(driver_command, params)\n\u001b[0;32m    353\u001b[0m \u001b[38;5;28;01mif\u001b[39;00m response:\n\u001b[1;32m--> 354\u001b[0m     \u001b[38;5;28;43mself\u001b[39;49m\u001b[38;5;241;43m.\u001b[39;49m\u001b[43merror_handler\u001b[49m\u001b[38;5;241;43m.\u001b[39;49m\u001b[43mcheck_response\u001b[49m\u001b[43m(\u001b[49m\u001b[43mresponse\u001b[49m\u001b[43m)\u001b[49m\n\u001b[0;32m    355\u001b[0m     response[\u001b[38;5;124m\"\u001b[39m\u001b[38;5;124mvalue\u001b[39m\u001b[38;5;124m\"\u001b[39m] \u001b[38;5;241m=\u001b[39m \u001b[38;5;28mself\u001b[39m\u001b[38;5;241m.\u001b[39m_unwrap_value(response\u001b[38;5;241m.\u001b[39mget(\u001b[38;5;124m\"\u001b[39m\u001b[38;5;124mvalue\u001b[39m\u001b[38;5;124m\"\u001b[39m, \u001b[38;5;28;01mNone\u001b[39;00m))\n\u001b[0;32m    356\u001b[0m     \u001b[38;5;28;01mreturn\u001b[39;00m response\n",
      "File \u001b[1;32m~\\AppData\\Roaming\\Python\\Python312\\site-packages\\selenium\\webdriver\\remote\\errorhandler.py:229\u001b[0m, in \u001b[0;36mErrorHandler.check_response\u001b[1;34m(self, response)\u001b[0m\n\u001b[0;32m    227\u001b[0m         alert_text \u001b[38;5;241m=\u001b[39m value[\u001b[38;5;124m\"\u001b[39m\u001b[38;5;124malert\u001b[39m\u001b[38;5;124m\"\u001b[39m]\u001b[38;5;241m.\u001b[39mget(\u001b[38;5;124m\"\u001b[39m\u001b[38;5;124mtext\u001b[39m\u001b[38;5;124m\"\u001b[39m)\n\u001b[0;32m    228\u001b[0m     \u001b[38;5;28;01mraise\u001b[39;00m exception_class(message, screen, stacktrace, alert_text)  \u001b[38;5;66;03m# type: ignore[call-arg]  # mypy is not smart enough here\u001b[39;00m\n\u001b[1;32m--> 229\u001b[0m \u001b[38;5;28;01mraise\u001b[39;00m exception_class(message, screen, stacktrace)\n",
      "\u001b[1;31mNoSuchWindowException\u001b[0m: Message: no such window: target window already closed\nfrom unknown error: web view not found\n  (Session info: MicrosoftEdge=128.0.2739.42)\nStacktrace:\n\tGetHandleVerifier [0x00007FF6FC053A12+10594]\n\tMicrosoft::Applications::Events::ILogConfiguration::operator* [0x00007FF6FBFF0439+323321]\n\t(No symbol) [0x00007FF6FBE0F16E]\n\t(No symbol) [0x00007FF6FBDEAB19]\n\t(No symbol) [0x00007FF6FBE7E7CB]\n\t(No symbol) [0x00007FF6FBE9145A]\n\t(No symbol) [0x00007FF6FBE777E3]\n\t(No symbol) [0x00007FF6FBE4B3EC]\n\t(No symbol) [0x00007FF6FBE4A8CD]\n\t(No symbol) [0x00007FF6FBE4AFB1]\n\tMicrosoft::Applications::Events::EventProperty::empty [0x00007FF6FC1DE4B4+918756]\n\tMicrosoft::Applications::Events::EventProperty::~EventProperty [0x00007FF6FBF7C9BF+54575]\n\tMicrosoft::Applications::Events::EventProperty::~EventProperty [0x00007FF6FBF6F557+199]\n\tMicrosoft::Applications::Events::EventProperty::empty [0x00007FF6FC1DD23D+914029]\n\tMicrosoft::Applications::Events::ILogConfiguration::operator* [0x00007FF6FBFF7EC1+354689]\n\tMicrosoft::Applications::Events::ILogConfiguration::operator* [0x00007FF6FBFF4374+339508]\n\tMicrosoft::Applications::Events::ILogConfiguration::operator* [0x00007FF6FBFF44A9+339817]\n\tMicrosoft::Applications::Events::ILogConfiguration::operator* [0x00007FF6FBFEAD6C+301100]\n\tBaseThreadInitThunk [0x00007FFB020C257D+29]\n\tRtlUserThreadStart [0x00007FFB03A8AF28+40]\n"
     ]
    }
   ],
   "source": [
    "from selenium import webdriver\n",
    "from selenium.webdriver.edge.service import Service\n",
    "from selenium.webdriver.edge.options import Options\n",
    "from webdriver_manager.microsoft import EdgeChromiumDriverManager\n",
    "import pandas as pd\n",
    "import time\n",
    "import random\n",
    "\n",
    "# Configure Edge options\n",
    "edge_options = Options()\n",
    "# Set a realistic user-agent string\n",
    "edge_options.add_argument(\"user-agent=Mozilla/5.0 (Windows NT 10.0; Win64; x64) AppleWebKit/537.36 (KHTML, like Gecko) Chrome/114.0.0.0 Safari/537.36\")\n",
    "\n",
    "# Use WebDriver Manager to get the correct WebDriver version\n",
    "service = Service(EdgeChromiumDriverManager().install())\n",
    "driver = webdriver.Edge(service=service, options=edge_options)\n",
    "\n",
    "df = pd.read_csv('HStoExcel.csv')\n",
    "\n",
    "for index, row in df.iterrows():\n",
    "    url = row['url']\n",
    "    driver.get(url)\n",
    "    \n",
    "    # Perform actions on the page\n",
    "    print(f\"Navigated to: {driver.title}\")\n",
    "    \n",
    "    # Pause with random delay before moving to the next page\n",
    "    time.sleep(random.uniform(5, 10))\n",
    "\n",
    "# Close the browser when done\n",
    "driver.quit()\n"
   ]
  }
 ],
 "metadata": {
  "kernelspec": {
   "display_name": "Python 3",
   "language": "python",
   "name": "python3"
  },
  "language_info": {
   "codemirror_mode": {
    "name": "ipython",
    "version": 3
   },
   "file_extension": ".py",
   "mimetype": "text/x-python",
   "name": "python",
   "nbconvert_exporter": "python",
   "pygments_lexer": "ipython3",
   "version": "3.12.5"
  }
 },
 "nbformat": 4,
 "nbformat_minor": 2
}
